{
  "nbformat": 4,
  "nbformat_minor": 0,
  "metadata": {
    "colab": {
      "provenance": [],
      "toc_visible": true
    },
    "kernelspec": {
      "name": "python3",
      "display_name": "Python 3"
    },
    "language_info": {
      "name": "python"
    }
  },
  "cells": [
    {
      "cell_type": "markdown",
      "source": [
        "Week 1 & 2"
      ],
      "metadata": {
        "id": "7EIbI2Bf9p49"
      }
    },
    {
      "cell_type": "markdown",
      "source": [
        "# WebMO Familiarization: Quantum Chemistry Calculations"
      ],
      "metadata": {
        "id": "w_ucmNxB_Chy"
      }
    },
    {
      "cell_type": "markdown",
      "source": [
        "*   Draw simple molecular structures (e.g., H₂O, methane).\n",
        "*   Explore different types of calculations: single-point energy, geometry optimization, and frequency analysis.\n",
        "*   Investigate changing the level of theory and basis sets\n",
        "*   Introduction to basic concepts of quantum chemistry ([Google Colab notebook](https://colab.research.google.com/drive/1Mh_gMkAWXlEK-jk1jPAPH-v-Zun7DJ2W#scrollTo=4KEHbJKPELJY))"
      ],
      "metadata": {
        "id": "TzfWwYFY9wSg"
      }
    },
    {
      "cell_type": "markdown",
      "source": [
        "# Python and Google Colab Notebooks"
      ],
      "metadata": {
        "id": "euOR4hqh--0U"
      }
    },
    {
      "cell_type": "markdown",
      "source": [
        "*   Basics of using Google Colab Introductory Video ([Basics](https://www.youtube.com/watch?v=KEIpJ50Jc0w))\n",
        "*   Creating reports in Google Colab. Tutorial ([Tutorial](https://www.youtube.com/watch?v=ZKGcxsgTVmo))\n",
        "\n"
      ],
      "metadata": {
        "id": "zmDpKOCd_jQO"
      }
    }
  ]
}